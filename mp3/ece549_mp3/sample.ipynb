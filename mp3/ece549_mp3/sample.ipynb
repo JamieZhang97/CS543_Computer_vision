{
 "cells": [
  {
   "cell_type": "markdown",
   "metadata": {},
   "source": [
    "# Single-View Geometry (Python)\n",
    "\n",
    "## Usage\n",
    "This code snippet provides an overall code structure and some interactive plot interfaces for the *Single-View Geometry* section of Assignment 3. In [main function](#Main-function), we outline the required functionalities step by step. Some of the functions which involves interactive plots are already provided, but [the rest](#Your-implementation) are left for you to implement.\n",
    "\n",
    "## Package installation\n",
    "- You will need [GUI backend](https://matplotlib.org/faq/usage_faq.html#what-is-a-backend) to enable interactive plots in `matplotlib`.\n",
    "- In this code, we use `tkinter` package. Installation instruction can be found [here](https://anaconda.org/anaconda/tk)."
   ]
  },
  {
   "cell_type": "markdown",
   "metadata": {},
   "source": [
    "# Common imports"
   ]
  },
  {
   "cell_type": "code",
   "execution_count": 1,
   "metadata": {},
   "outputs": [],
   "source": [
    "%matplotlib tk\n",
    "import matplotlib.pyplot as plt\n",
    "import numpy as np\n",
    "import cv2\n",
    "import os\n",
    "\n",
    "from PIL import Image\n",
    "import pickle\n",
    "from sympy import Symbol, Matrix, solve\n",
    "from sympy import *"
   ]
  },
  {
   "cell_type": "markdown",
   "metadata": {},
   "source": [
    "# Provided functions"
   ]
  },
  {
   "cell_type": "code",
   "execution_count": 2,
   "metadata": {},
   "outputs": [],
   "source": [
    "def get_input_lines(im, min_lines=3):\n",
    "    \"\"\"\n",
    "    Allows user to input line segments; computes centers and directions.\n",
    "    Inputs:\n",
    "        im: np.ndarray of shape (height, width, 3)\n",
    "        min_lines: minimum number of lines required\n",
    "    Returns:\n",
    "        n: number of lines from input\n",
    "        lines: np.ndarray of shape (3, n)\n",
    "            where each column denotes the parameters of the line equation\n",
    "        centers: np.ndarray of shape (3, n)\n",
    "            where each column denotes the homogeneous coordinates of the centers\n",
    "    \"\"\"\n",
    "    n = 0\n",
    "    lines = np.zeros((3, 0))\n",
    "    centers = np.zeros((3, 0))\n",
    "\n",
    "    plt.figure()\n",
    "    plt.imshow(im)\n",
    "    print('Set at least {} lines to compute vanishing point'.format(min_lines))\n",
    "    while True:\n",
    "        print('Click the two endpoints, use the right key to undo, and use the middle key to stop input')\n",
    "        clicked = plt.ginput(2, timeout=0, show_clicks=True)\n",
    "        if not clicked or len(clicked) < 2:\n",
    "            if n < min_lines:\n",
    "                print('Need at least {} lines, you have {} now'.format(min_lines, n))\n",
    "                continue\n",
    "            else:\n",
    "                # Stop getting lines if number of lines is enough\n",
    "                break\n",
    "\n",
    "        # Unpack user inputs and save as homogeneous coordinates\n",
    "        pt1 = np.array([clicked[0][0], clicked[0][1], 1])\n",
    "        pt2 = np.array([clicked[1][0], clicked[1][1], 1])\n",
    "        # Get line equation using cross product\n",
    "        # Line equation: line[0] * x + line[1] * y + line[2] = 0\n",
    "        line = np.cross(pt1, pt2)\n",
    "        lines = np.append(lines, line.reshape((3, 1)), axis=1)\n",
    "        # Get center coordinate of the line segment\n",
    "        center = (pt1 + pt2) / 2\n",
    "        centers = np.append(centers, center.reshape((3, 1)), axis=1)\n",
    "\n",
    "        # Plot line segment\n",
    "        plt.plot([pt1[0], pt2[0]], [pt1[1], pt2[1]], color='b')\n",
    "\n",
    "        n += 1\n",
    "\n",
    "    return n, lines, centers"
   ]
  },
  {
   "cell_type": "code",
   "execution_count": 3,
   "metadata": {},
   "outputs": [],
   "source": [
    "def plot_lines_and_vp(ax, im, lines, vp):\n",
    "    \"\"\"\n",
    "    Plots user-input lines and the calculated vanishing point.\n",
    "    Inputs:\n",
    "        im: np.ndarray of shape (height, width, 3)\n",
    "        lines: np.ndarray of shape (3, n)\n",
    "            where each column denotes the parameters of the line equation\n",
    "        vp: np.ndarray of shape (3, )\n",
    "    \"\"\"\n",
    "    bx1 = min(1, vp[0] / vp[2]) - 10\n",
    "    bx2 = max(im.shape[1], vp[0] / vp[2]) + 10\n",
    "    by1 = min(1, vp[1] / vp[2]) - 10\n",
    "    by2 = max(im.shape[0], vp[1] / vp[2]) + 10\n",
    "    \n",
    "    ax.imshow(im)\n",
    "    for i in range(lines.shape[1]):\n",
    "        if lines[0, i] < lines[1, i]:\n",
    "            pt1 = np.cross(np.array([1, 0, -bx1]), lines[:, i])\n",
    "            pt2 = np.cross(np.array([1, 0, -bx2]), lines[:, i])\n",
    "        else:\n",
    "            pt1 = np.cross(np.array([0, 1, -by1]), lines[:, i])\n",
    "            pt2 = np.cross(np.array([0, 1, -by2]), lines[:, i])\n",
    "        pt1 = pt1 / pt1[2]\n",
    "        pt2 = pt2 / pt2[2]\n",
    "        ax.plot([pt1[0], pt2[0]], [pt1[1], pt2[1]], 'g')\n",
    "\n",
    "    ax.plot(vp[0] / vp[2], vp[1] / vp[2], 'ro')\n",
    "    ax.set_xlim([bx1, bx2])\n",
    "    ax.set_ylim([by2, by1])"
   ]
  },
  {
   "cell_type": "markdown",
   "metadata": {},
   "source": [
    "# Your implementation"
   ]
  },
  {
   "cell_type": "code",
   "execution_count": 4,
   "metadata": {},
   "outputs": [],
   "source": [
    "def get_vanishing_point(lines):\n",
    "    \"\"\"\n",
    "    Solves for the vanishing point using the user-input lines.\n",
    "    \"\"\"\n",
    "    # <YOUR IMPLEMENTATION>\n",
    "    AtA = lines.dot(lines.T)\n",
    "    w, v = np.linalg.eig(AtA)\n",
    "    # Find min eigenvalue and eigen vec.\n",
    "    min_idx = np.argmin(w)\n",
    "    vpts = v[:, min_idx]\n",
    "    # Convert to homogeneous.\n",
    "    vpts = vpts / vpts[-1]\n",
    "    return vpts"
   ]
  },
  {
   "cell_type": "code",
   "execution_count": 5,
   "metadata": {},
   "outputs": [],
   "source": [
    "def get_horizon_line(vpts):\n",
    "    \"\"\"\n",
    "    Calculates the ground horizon line.\n",
    "    \"\"\"\n",
    "    a, b, c = np.cross(vpts[:, 0], vpts[:, 1])\n",
    "    scale = np.sqrt(1 / (a**2 + b**2))\n",
    "    line = np.array([a, b, c]) * scale\n",
    "    \n",
    "    print(line)\n",
    "    return line"
   ]
  },
  {
   "cell_type": "code",
   "execution_count": 6,
   "metadata": {},
   "outputs": [],
   "source": [
    "def plot_horizon_line(img, h_line):\n",
    "    \"\"\"\n",
    "    Plots the horizon line.\n",
    "    \"\"\"\n",
    "    A = -h_line[0] / h_line[1]\n",
    "    B = -h_line[2] / h_line[1]\n",
    "    x = np.linspace(0,img.shape[1])\n",
    "    y = A * x + B\n",
    "    plt.imshow(img)\n",
    "    plt.plot(x, y, 'r')\n",
    "    plt.show()"
   ]
  },
  {
   "cell_type": "code",
   "execution_count": 7,
   "metadata": {},
   "outputs": [],
   "source": [
    "def get_camera_parameters(vpts):\n",
    "    \"\"\"\n",
    "    Computes the camera parameters. Hint: The SymPy package is suitable for this.\n",
    "    \"\"\"\n",
    "    pt1, pt2, pt3 = Matrix(vpts[:, 0]), Matrix(vpts[:, 1]), Matrix(vpts[:, 2])\n",
    "    f, px, py = Symbol('f'), Symbol('px'), Symbol('py')\n",
    "    K = Matrix( ((f, 0, px), \n",
    "                 (0, f, py), \n",
    "                 (0, 0, 1)) )\n",
    "    K_inv = K.inv()\n",
    "    Eq1 = pt1.T * K_inv.T * K_inv * pt2\n",
    "    Eq2 = pt1.T * K_inv.T * K_inv * pt3\n",
    "    Eq3 = pt2.T * K_inv.T * K_inv * pt3\n",
    "    res = solve([Eq1, Eq2, Eq3], [f, px, py])\n",
    "#     print(res)\n",
    "    f, px, py = res[0]\n",
    "    K = np.array([\n",
    "        [f, 0, px],\n",
    "        [0, f, py], \n",
    "        [0, 0, 1]\n",
    "    ])\n",
    "    return abs(f), px, py, K"
   ]
  },
  {
   "cell_type": "code",
   "execution_count": 8,
   "metadata": {},
   "outputs": [],
   "source": [
    "def get_rotation_matrix(vpts, K):\n",
    "    \"\"\"\n",
    "    Computes the rotation matrix using the camera parameters.\n",
    "    \"\"\"\n",
    "    vp1 = vpts[:, 1].T\n",
    "    vp2 = vpts[:, 2].T\n",
    "    vp3 = vpts[:, 0].T\n",
    "    K_f=np.matrix(K, dtype='float')\n",
    "    K_inv = np.linalg.inv(K_f)\n",
    "    \n",
    "    r1 = np.dot(K_inv, vp1)\n",
    "    r2 = np.dot(K_inv, vp2)\n",
    "    r3 = np.dot(K_inv, vp3)\n",
    "    \n",
    "    r1 =  r1 / np.linalg.norm(r1)\n",
    "    r2 =  r2 / np.linalg.norm(r2)\n",
    "    r3 =  r3 / np.linalg.norm(r3)\n",
    "    R = np.vstack((r1, r2, r3)).T\n",
    "    \n",
    "    return R"
   ]
  },
  {
   "cell_type": "code",
   "execution_count": 9,
   "metadata": {},
   "outputs": [],
   "source": [
    "def get_homography(Rt, K):\n",
    "    \"\"\"\n",
    "    Compute homography for transforming the image into fronto-parallel \n",
    "    views along the different axes.\n",
    "    \"\"\"\n",
    "    H = np.zeros((3, 3, 3))\n",
    "    K_f=np.matrix(K, dtype='float')\n",
    "    K_inv = np.linalg.inv(K_f)\n",
    "    for i in range(3):\n",
    "        H[i] = np.dot(K, Rt[i]).dot(K_inv)\n",
    "    return H"
   ]
  },
  {
   "cell_type": "code",
   "execution_count": 10,
   "metadata": {},
   "outputs": [],
   "source": [
    "def get_rotation_matrix_rectification(R):\n",
    "    \"\"\"\n",
    "    Compute the rotation matrix that will be used to compute the \n",
    "    homography for rectification.\n",
    "    \"\"\"\n",
    "    R = np.array(R)\n",
    "    Rt = np.zeros((3,3,3))\n",
    "    XYZ = np.array([[-1., 0., 0.],\n",
    "                    [0., -1., 0.],\n",
    "                    [0., 0., 1.]])\n",
    "    YZX = np.array([[0., 0., 1.],\n",
    "                    [0., -1., 0.],\n",
    "                    [1., 0., 0.]])\n",
    "    ZXY = np.array([[1., 0., 0.],\n",
    "                    [0., 0., -1.],\n",
    "                    [0., -1., 0.]])\n",
    "    \n",
    "    R_inv = np.linalg.inv(R)\n",
    "    \n",
    "    Rt[0] = XYZ.dot(R_inv)\n",
    "    Rt[1] = YZX.dot(R_inv)\n",
    "    Rt[2] = ZXY.dot(R_inv)\n",
    "    return Rt"
   ]
  },
  {
   "cell_type": "markdown",
   "metadata": {},
   "source": [
    "# Main function"
   ]
  },
  {
   "cell_type": "code",
   "execution_count": 11,
   "metadata": {},
   "outputs": [],
   "source": [
    "im = np.asarray(Image.open('./data/Q3/eceb.png'))\n",
    "num_vpts = 3\n",
    "# Also loads the vanishing line data if it exists in data.pickle file. \n",
    "# data.pickle is written using snippet in the next cell.\n",
    "if os.path.exists('data.pickle'):\n",
    "    with open('data.pickle', 'rb') as f:\n",
    "        all_n, all_lines, all_centers = pickle.load(f, encoding='latin')"
   ]
  },
  {
   "cell_type": "code",
   "execution_count": 12,
   "metadata": {},
   "outputs": [],
   "source": [
    "# Click and save the line data for vanishing points. This snippet \n",
    "# opens up an interface for selecting points and writes them to \n",
    "# data.pickle file. The file is over-written.\n",
    "\n",
    "# all_n, all_lines, all_centers = [], [], []\n",
    "\n",
    "# for i in range(num_vpts):\n",
    "#     print('Getting vanishing point {}'.format(i))\n",
    "#     fig = plt.figure(); ax = fig.gca()\n",
    "    \n",
    "#     # Get at least three lines from user input\n",
    "#     n_i, lines_i, centers_i = get_input_lines(im)\n",
    "#     all_n.append(n_i)\n",
    "#     all_lines.append(lines_i)\n",
    "#     all_centers.append(centers_i)\n",
    "\n",
    "# with open('data.pickle', 'wb') as f:\n",
    "#     pickle.dump([all_n, all_lines, all_centers], f)"
   ]
  },
  {
   "cell_type": "code",
   "execution_count": 13,
   "metadata": {},
   "outputs": [
    {
     "name": "stdout",
     "output_type": "stream",
     "text": [
      "[[6.82509355e+02 6.16417770e+03 1.00151052e+03]\n",
      " [2.31005292e+02 1.69245604e+02 3.53815386e+03]\n",
      " [1.00000000e+00 1.00000000e+00 1.00000000e+00]]\n"
     ]
    }
   ],
   "source": [
    "# Part (a)\n",
    "# Computing vanishing points for each of the directions\n",
    "vpts = np.zeros((3, num_vpts))\n",
    "\n",
    "for i in range(num_vpts):\n",
    "    fig = plt.figure(); ax = fig.gca()\n",
    "    \n",
    "    # <YOUR CODE> Solve for vanishing point\n",
    "    vpts[:, i] = get_vanishing_point(all_lines[i])\n",
    "    \n",
    "    # Plot the lines and the vanishing point\n",
    "    plot_lines_and_vp(ax, im, all_lines[i], vpts[:, i])\n",
    "    fig.savefig('Q3_vp{:d}.pdf'.format(i), bbox_inches='tight')\n",
    "print(vpts)"
   ]
  },
  {
   "cell_type": "code",
   "execution_count": 14,
   "metadata": {},
   "outputs": [
    {
     "name": "stdout",
     "output_type": "stream",
     "text": [
      "[ 1.12658710e-02  9.99936538e-01 -2.38679694e+02]\n"
     ]
    }
   ],
   "source": [
    "# Part (b) Computing and plotting the horizon\n",
    "# <YOUR CODE> Get the ground horizon line\n",
    "horizon_line = get_horizon_line(vpts)\n",
    "\n",
    "# <YOUR CODE> Plot the ground horizon line\n",
    "fig = plt.figure(); \n",
    "ax = fig.gca()\n",
    "plot_horizon_line(im, horizon_line)\n",
    "fig.savefig('Q3_horizon.pdf', bbox_inches='tight')"
   ]
  },
  {
   "cell_type": "code",
   "execution_count": 15,
   "metadata": {},
   "outputs": [
    {
     "name": "stdout",
     "output_type": "stream",
     "text": [
      "969.200081443265 670.343110560968 1126.58813270604 [[-1126.58813270604 0 969.200081443265]\n",
      " [0 -1126.58813270604 670.343110560968]\n",
      " [0 0 1]]\n"
     ]
    }
   ],
   "source": [
    "# Part (c) Computing Camera Parameters\n",
    "# <YOUR CODE> Solve for the camera parameters (f, u, v)\n",
    "f, u, v, K = get_camera_parameters(vpts)\n",
    "print(u, v, f, K)"
   ]
  },
  {
   "cell_type": "code",
   "execution_count": 16,
   "metadata": {},
   "outputs": [
    {
     "name": "stdout",
     "output_type": "stream",
     "text": [
      "[[-0.97297035 -0.01048588  0.23069189]\n",
      " [ 0.09385084 -0.93070604  0.35352267]\n",
      " [ 0.21099934  0.36561771  0.90653349]]\n"
     ]
    }
   ],
   "source": [
    "# Part (d) Computing Rotation Matrices\n",
    "# <YOUR CODE> Solve for the rotation matrix\n",
    "R = get_rotation_matrix(vpts, K)\n",
    "print(R)"
   ]
  },
  {
   "cell_type": "code",
   "execution_count": 17,
   "metadata": {},
   "outputs": [
    {
     "name": "stdout",
     "output_type": "stream",
     "text": [
      "[[[ 0.97297035 -0.09385084 -0.21099934]\n",
      "  [ 0.01048588  0.93070604 -0.36561771]\n",
      "  [ 0.23069189  0.35352267  0.90653349]]\n",
      "\n",
      " [[ 0.23069189  0.35352267  0.90653349]\n",
      "  [ 0.01048588  0.93070604 -0.36561771]\n",
      "  [-0.97297035  0.09385084  0.21099934]]\n",
      "\n",
      " [[-0.97297035  0.09385084  0.21099934]\n",
      "  [-0.23069189 -0.35352267 -0.90653349]\n",
      "  [ 0.01048588  0.93070604 -0.36561771]]]\n",
      "[[[ 7.74506871e-01 -3.97985238e-01  6.32456227e+02]\n",
      "  [-1.26780540e-01  7.20352783e-01  6.59581233e+02]\n",
      "  [-2.04770389e-04 -3.13799393e-04  1.31535023e+00]]\n",
      "\n",
      " [[ 1.06773509e+00  2.72783101e-01 -2.03449651e+03]\n",
      "  [ 5.89423249e-01  8.74862863e-01 -6.04384833e+02]\n",
      "  [ 8.63643349e-04 -8.33053693e-05 -5.70200684e-01]]\n",
      "\n",
      " [[-9.81991316e-01 -7.06832521e-01  8.33500313e+02]\n",
      "  [-2.36931204e-01 -9.07311911e-01  1.61404460e+03]\n",
      "  [-9.30764261e-06 -8.26128038e-04  1.97192502e-01]]]\n",
      "0\n",
      "1\n",
      "2\n"
     ]
    }
   ],
   "source": [
    "# Part (e) Generating fronto-parallel warps. Compute the \n",
    "# appropriate rotation to transform the world coordinates\n",
    "# such that the axis of projection becomes the world\n",
    "# X, Y and Z axes respectively. Use this rotation to estimate\n",
    "# a homography that will be used to compute the output view.\n",
    "# Apply the homography to generate the 3 fronto-parallel\n",
    "# views and save them.\n",
    "\n",
    "Rt = get_rotation_matrix_rectification(R)\n",
    "print(Rt)\n",
    "H = get_homography(Rt, K)\n",
    "print(H)\n",
    "\n",
    "im_rgb = cv2.cvtColor(im, cv2.COLOR_BGR2RGB)\n",
    "for i in range(3):\n",
    "    Ht = 0\n",
    "    if i == 0: #Z\n",
    "        Ht = np.array([[1, 0, 0], [0, 1, 0], [0, 0, 1]]) # translate\n",
    "    elif i == 1: #Y\n",
    "        Ht = np.array([[1, 0, 3000], [0, 1, 1000], [0, 0, 1]]) # translate\n",
    "    else: #X\n",
    "        Ht = np.array([[1, 0, 0], [0, 1, 3000], [0, 0, 1]]) # translate\n",
    "    result = cv2.warpPerspective(im_rgb, Ht.dot(H[i]), (5000,4000))\n",
    "    # Ht = np.array([[1, 0, t[0]], [0, 1, t[1]], [0, 0, 1]]) # translate\n",
    "    # result = cv2.warpPerspective(img2, Ht.dot(H), (xmax-xmin, ymax-ymin))    # (h, w)\n",
    "    print(i)\n",
    "    # cv2.imshow('123',result)\n",
    "#     fig = plt.figure(); ax = fig.gca()\n",
    "    cv2.imwrite('Q3_im{:d}.jpg'.format(i), result,\n",
    "                [int(cv2.IMWRITE_JPEG_QUALITY), 90])"
   ]
  }
 ],
 "metadata": {
  "kernelspec": {
   "display_name": "Python 3",
   "language": "python",
   "name": "python3"
  },
  "language_info": {
   "codemirror_mode": {
    "name": "ipython",
    "version": 3
   },
   "file_extension": ".py",
   "mimetype": "text/x-python",
   "name": "python",
   "nbconvert_exporter": "python",
   "pygments_lexer": "ipython3",
   "version": "3.6.6"
  }
 },
 "nbformat": 4,
 "nbformat_minor": 2
}
